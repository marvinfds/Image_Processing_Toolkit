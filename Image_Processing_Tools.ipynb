{
 "cells": [
  {
   "cell_type": "code",
   "execution_count": 125,
   "metadata": {},
   "outputs": [],
   "source": [
    "#Import Library required later in image processing\n",
    "import os\n",
    "import copy\n",
    "import cv2\n",
    "import imutils\n",
    "import numpy as np\n",
    "import joblib\n",
    "import matplotlib.pyplot as plt\n",
    "import ipywidgets as widgets\n",
    "\n",
    "import random as rng\n",
    "import argparse\n",
    "\n",
    "from ipywidgets import interact, interactive, fixed, interact_manual\n",
    "\n",
    "import os\n",
    "cwd = os.getcwd()\n",
    "\n",
    "import IPython\n",
    "\n",
    "import PIL\n",
    "\n",
    "\n",
    "def showing(a):\n",
    "    #b = cv2.cvtColor(a, cv2.COLOR_BGR2RGB) # redundent as images can be loaded as rgb using opencv by simple numpy trick ie: [:,:,::-1]\n",
    "    IPython.display.display(PIL.Image.fromarray(a))"
   ]
  },
  {
   "cell_type": "markdown",
   "metadata": {},
   "source": [
    "#### Load Image(s) interactively"
   ]
  },
  {
   "cell_type": "code",
   "execution_count": 121,
   "metadata": {},
   "outputs": [
    {
     "data": {
      "application/vnd.jupyter.widget-view+json": {
       "model_id": "2f130777851c41fe9733cedc194d7792",
       "version_major": 2,
       "version_minor": 0
      },
      "text/plain": [
       "FileUpload(value={}, description='Upload', multiple=True)"
      ]
     },
     "metadata": {},
     "output_type": "display_data"
    }
   ],
   "source": [
    "#Load multiple/single image to be porcessed later in the workflow\n",
    "uploader = widgets.FileUpload(\n",
    "    accept='',  # Accepted file extension e.g. '.txt', '.pdf', 'image/*', 'image/*,.pdf'\n",
    "    multiple=True  # True to accept multiple files upload else False\n",
    ")\n",
    "uploader"
   ]
  },
  {
   "cell_type": "markdown",
   "metadata": {},
   "source": [
    "#### Scroll through Images"
   ]
  },
  {
   "cell_type": "code",
   "execution_count": 126,
   "metadata": {},
   "outputs": [
    {
     "data": {
      "application/vnd.jupyter.widget-view+json": {
       "model_id": "f23acf7eb17c4003996bd9d5fe7299a5",
       "version_major": 2,
       "version_minor": 0
      },
      "text/plain": [
       "interactive(children=(IntSlider(value=0, description='ind_num', max=0), Output()), _dom_classes=('widget-inter…"
      ]
     },
     "metadata": {},
     "output_type": "display_data"
    }
   ],
   "source": [
    "#Display Image\n",
    "def img_scroll(ind_num):\n",
    "    global img\n",
    "    Image_index_num=list(uploader.value)\n",
    "    uploaded_file = uploader.value[Image_index_num[ind_num]]\n",
    "    #Display image using ipywidgets\n",
    "    img = cv2.imdecode(np.frombuffer(uploaded_file['content'], np.uint8), -1)[:,:,::-1]\n",
    "    return widgets.Image(value=uploaded_file['content']) #content contains images data in bytes type\n",
    "\n",
    "interact(img_scroll, ind_num=widgets.IntSlider(min=0, max=len(uploader.value)-1, step=1, value=0));\n",
    "#Becareful when loading image in RGB or BGR\n",
    "\n",
    "#output --> img"
   ]
  },
  {
   "cell_type": "markdown",
   "metadata": {},
   "source": [
    "#### Define ROI For Region Specific Image Processing"
   ]
  },
  {
   "cell_type": "code",
   "execution_count": 87,
   "metadata": {},
   "outputs": [
    {
     "name": "stdout",
     "output_type": "stream",
     "text": [
      "[INFO] Click the left button: select the point, right click: delete the last selected point, click the middle button: determine the ROI area\n",
      "[INFO] Press ‘S’ without clicking anywhere to select whole image as ROI\n",
      "[INFO] Press ‘S’ to determine the selection area and save it\n",
      "[INFO] Press ESC to quit\n",
      "[INFO] ROI coordinates have been saved to local.\n"
     ]
    }
   ],
   "source": [
    "'''Function used to define ROI by drawing polygon and creating mask'''\n",
    "#To do\n",
    "#1. Add saving ROI function and later read back\n",
    "#2. Add draw rectangle \n",
    "#3. Add draw circle\n",
    "#4. multiple Roi (might have to change saving structure to json format)\n",
    "\n",
    "\n",
    "#img = src # image source\n",
    "pts = [] # Initilize for storing points\n",
    "pts_roi = [[0, 0], [img.shape[1], 0], [img.shape[1], img.shape[0]], [0, img.shape[0]]] # used to mask src image\n",
    "pts_roi_np = [] # used as generic contour format saving after threshold\n",
    "clr_prset_cord = True\n",
    "#######################################################################################\n",
    "#Input <--img\n",
    "\n",
    "# :mouse callback function\n",
    "def draw_roi(event, x, y, flags, param):\n",
    "    img2 = img.copy()\n",
    "    global clr_prset_cord\n",
    "    global pts_roi\n",
    "     \n",
    "    if event == cv2.EVENT_LBUTTONDOWN: # Left click, select point\n",
    "            if clr_prset_cord:\n",
    "                pts_roi = []\n",
    "                clr_prset_cord = False\n",
    "            pts.append((x, y))\n",
    "            pts_roi.append([x, y])\n",
    "\n",
    "\n",
    "    if event == cv2.EVENT_RBUTTONDOWN: # Right click to cancel the last selected point\n",
    "            pts.pop()\n",
    "            pts_roi = pts_roi[:-1]\n",
    " \n",
    "    if event == cv2.EVENT_MBUTTONDOWN: # \n",
    "            mask = np.zeros(img.shape, np.uint8)\n",
    "            points = np.array(pts, np.int32)\n",
    "            points = points.reshape((-1, 1, 2))\n",
    "                     # \n",
    "            mask = cv2.polylines(mask, [points], True, (255, 255, 255), 2)\n",
    "            Mask2 = cv2.fillPoly(mask.copy(), [points], (255, 255, 255)) # for ROI\n",
    "            Mask3 = cv2.fillPoly(mask.copy(), [points], (0, 255, 0)) # for displaying images on the desktop\n",
    "\n",
    "            show_image = cv2.addWeighted(src1=img, alpha=0.8, src2=mask3, beta=0.2, gamma=0)\n",
    "\n",
    "            cv2.imshow(\"mask\", mask2)\n",
    "            cv2.imshow(\"show_img\", show_image)\n",
    "\n",
    "            ROI = cv2.bitwise_and(mask2, img)\n",
    "            cv2.imshow(\"ROI\", ROI)\n",
    "            cv2.waitKey(0)\n",
    " \n",
    "    if len(pts) > 0:\n",
    "        # Draw the last point in pts\n",
    "        cv2.circle(img2, pts[-1], 3, (0, 0, 255), -1)\n",
    " \n",
    "    if len(pts) > 1:\n",
    "                 # \n",
    "        for i in range(len(pts) - 1):\n",
    "            cv2.circle(img2, pts[i], 5, (0, 0, 255), -1) # x ,y is the coordinates of the mouse click place\n",
    "            cv2.line(img=img2, pt1=pts[i], pt2=pts[i + 1], color=(255, 0, 0), thickness=2)\n",
    " \n",
    "    cv2.imshow('Draw ROI', img2)\n",
    " \n",
    " \n",
    "#Create images and windows and bind windows to callback functions\n",
    "cv2.namedWindow('Draw ROI')\n",
    "cv2.setMouseCallback('Draw ROI', draw_roi)\n",
    "print(\"[INFO] Click the left button: select the point, right click: delete the last selected point, click the middle button: determine the ROI area\")\n",
    "print(\"[INFO] Press ‘S’ without clicking anywhere to select whole image as ROI\")\n",
    "print(\"[INFO] Press ‘S’ to determine the selection area and save it\")\n",
    "print(\"[INFO] Press ESC to quit\")\n",
    "while True:\n",
    "    key = cv2.waitKey(1) & 0xFF\n",
    "    if key == 27:\n",
    "        break\n",
    "    if key == ord(\"s\"):\n",
    "        #add starting coordinate to end to create enclosed polygon\n",
    "        if pts: #check if list is empty first\n",
    "            pts.append(pts[0]) \n",
    "        #save in dictionary format / multiple roi to add later(still in development phase)\n",
    "        saved_data = {\n",
    "            \"ROI\": pts_roi\n",
    "        }\n",
    "        # standard way of saving contour in opencv as points in list\n",
    "        pts_roi_np = np.array([[pts_roi]])\n",
    "        #old way of saving ply file\n",
    "        #joblib.dump(value=saved_data, filename=r'C:\\Users\\MARVIN\\Desktop\\opencvtest\\roi.pkl')\n",
    "        \n",
    "        #want to save polygon as txt file for now.(easy to modify)\n",
    "        #to scale up the project better to save as json\n",
    "        with open(cwd+'\\\\roi.txt','w') as data:\n",
    "            data.write(str(saved_data))\n",
    "        print(\"[INFO] ROI coordinates have been saved to local.\")\n",
    "        break\n",
    "\n",
    "#output --> pts_roi_np(contour)\n",
    "##############################################################################\n",
    "#Input <--img\n",
    "#Input <--pts_roi_np(contour)\n",
    "\n",
    "masked_image = copy.deepcopy(img)\n",
    "\n",
    "#create dummy black image with same size and shape\n",
    "roi_image = np.zeros( (masked_image.shape[0],masked_image.shape[1],masked_image.shape[2]),dtype = np.uint8)\n",
    "#to try\n",
    "# create empty image with same shape as that of src image\n",
    "#red_img = np.zeros(src.shape)\n",
    "\n",
    "\n",
    "#fill ROI\n",
    "#thickness -1 means fill the ROI. can be changed to any interger changes thickness\n",
    "roi_image = cv2.drawContours(roi_image, pts_roi_np, contourIdx=-1, color=(255,255,255),thickness=-1)\n",
    "\n",
    "#bitwise and operation to dispay only ROI and future processing\n",
    "masked_image = cv2.bitwise_and(img, roi_image)#,mask = RoiImage , use or operater to inverse image roi selection\n",
    "\n",
    "\n",
    "cv2.imshow(\"Masked Image\", masked_image)\n",
    "cv2.waitKey()\n",
    "cv2.destroyAllWindows()\n",
    "\n",
    "\n",
    "#output is an image only sreened for ROI\n",
    "#output --> masked_image\n",
    "#output --> roi_image\n",
    "#Display image \n",
    "####################################################################################\n"
   ]
  },
  {
   "cell_type": "markdown",
   "metadata": {},
   "source": [
    "#### Threshold Image Interactively "
   ]
  },
  {
   "cell_type": "code",
   "execution_count": 94,
   "metadata": {},
   "outputs": [],
   "source": [
    "#Interactive threshold image\n",
    "#Input <--masked_image\n",
    "\n",
    "max_value = 255\n",
    "max_type = 4\n",
    "max_binary_value = 255\n",
    "trackbar_type = 'Type: \\n 0: Binary \\n 1: Binary Inverted \\n 2: Truncate \\n 3: To Zero \\n 4: To Zero Inverted'\n",
    "trackbar_value = 'Value'\n",
    "window_name = 'Threshold Demo'\n",
    "def Threshold_Demo(val):\n",
    "    global binary_thrshld_image\n",
    "    #0: Binary\n",
    "    #1: Binary Inverted\n",
    "    #2: Threshold Truncated\n",
    "    #3: Threshold to Zero\n",
    "    #4: Threshold to Zero Inverted\n",
    "    threshold_type = cv2.getTrackbarPos(trackbar_type, window_name)\n",
    "    threshold_value = cv2.getTrackbarPos(trackbar_value, window_name)\n",
    "    _, binary_thrshld_image = cv2.threshold(src_gray, threshold_value, max_binary_value, threshold_type )\n",
    "    cv2.imshow(window_name, binary_thrshld_image)\n",
    "#parser = argparse.ArgumentParser(description='Code for Basic Thresholding Operations tutorial.')\n",
    "#parser.add_argument('--input', help='Path to input image.', default='stuff.jpg')\n",
    "#args = parser.parse_args()\n",
    "#src = cv.imread(cv.samples.findFile(args.input))\n",
    "\n",
    "# Convert the image to Gray\n",
    "src_gray = cv2.cvtColor(masked_image, cv2.COLOR_BGR2GRAY)\n",
    "cv2.namedWindow(window_name)\n",
    "cv2.createTrackbar(trackbar_type, window_name , 3, max_type, Threshold_Demo)\n",
    "# Create Trackbar to choose Threshold value\n",
    "cv2.createTrackbar(trackbar_value, window_name , 0, max_value, Threshold_Demo)\n",
    "# Call the function to initialize\n",
    "Threshold_Demo(0)\n",
    "# Wait until user finishes program\n",
    "# if cv2.waitKey(10) & 0xFF == 27:\n",
    "#     cv2.destroyAllWindows()\n",
    "\n",
    "# # #Display image if required\n",
    "while True:\n",
    "    Threshold_Demo(0)\n",
    "    if cv2.waitKey(10) & 0xFF == 27:\n",
    "        break\n",
    "cv2.destroyAllWindows()\n",
    "\n",
    "#output --> binary_thrshld_image"
   ]
  },
  {
   "cell_type": "code",
   "execution_count": 58,
   "metadata": {},
   "outputs": [
    {
     "data": {
      "image/png": "[encoded data removed]",
      "text/plain": [
       "<PIL.Image.Image image mode=RGB size=757x591 at 0x153DF658448>"
      ]
     },
     "metadata": {},
     "output_type": "display_data"
    }
   ],
   "source": [
    "showing(binary_thrshld_image)"
   ]
  },
  {
   "cell_type": "markdown",
   "metadata": {},
   "source": [
    "#### Create ROI by Thresholding"
   ]
  },
  {
   "cell_type": "code",
   "execution_count": 95,
   "metadata": {},
   "outputs": [],
   "source": [
    "#Input<--binary_thrshld_image\n",
    "\n",
    "contours, hierarchy = cv2.findContours(binary_thrshld_image, cv2.RETR_TREE, cv2.CHAIN_APPROX_NONE) #can to  cv2.CHAIN_APPROX_SIMPLE  if simple rectangle threshold , CHAIN_APPROX_NONE for evry point\n",
    "#hierarchy is useful when one roi is inside another is is required for further analysis.( potentially helpful)(https://docs.opencv.org/master/d9/d8b/tutorial_py_contours_hierarchy.html)\n",
    "display_contour = cv2.drawContours(copy.copy(img), contours, -1, (0,255,0), 1)\n",
    "\n",
    "#output--> display_contour,contours"
   ]
  },
  {
   "cell_type": "code",
   "execution_count": 128,
   "metadata": {},
   "outputs": [
    {
     "data": {
      "image/png": "[encoded data removed]",
      "text/plain": [
       "<PIL.Image.Image image mode=RGBA size=757x591 at 0x153E5492208>"
      ]
     },
     "metadata": {},
     "output_type": "display_data"
    }
   ],
   "source": [
    "showing(display_contour)"
   ]
  },
  {
   "cell_type": "markdown",
   "metadata": {},
   "source": [
    "#### Create Enclosing Rectangle"
   ]
  },
  {
   "cell_type": "code",
   "execution_count": 102,
   "metadata": {},
   "outputs": [],
   "source": [
    "# Approximate contours to polygons + get bounding rects and circles\n",
    "contours_poly = [None]*len(contours)\n",
    "boundRect = [None]*len(contours)\n",
    "centers = [None]*len(contours)\n",
    "radius = [None]*len(contours)\n",
    "for i, c in enumerate(contours):\n",
    "    contours_poly[i] = cv2.approxPolyDP(c, 3, True)\n",
    "    boundRect[i] = cv2.boundingRect(contours_poly[i])\n",
    "    centers[i], radius[i] = cv2.minEnclosingCircle(contours_poly[i])"
   ]
  },
  {
   "cell_type": "code",
   "execution_count": 103,
   "metadata": {},
   "outputs": [],
   "source": [
    "# Draw polygonal contour + bonding rects + circles\n",
    "img_bounding_box_roi = copy.copy(img)\n",
    "for i in range(len(contours)):\n",
    "    color = (rng.randint(0,256), rng.randint(0,256), rng.randint(0,256)) # create random color\n",
    "    #cv2.drawContours(img_bounding_box_roi, contours_poly, i, color) #draw conturs around roi\n",
    "    cv2.rectangle(img_bounding_box_roi, (int(boundRect[i][0]), int(boundRect[i][1])),\n",
    "        (int(boundRect[i][0]+boundRect[i][2]), int(boundRect[i][1]+boundRect[i][3])), color, 2) #draw rectangle round roi\n",
    "    #cv2.circle(img_bounding_box_roi, (int(centers[i][0]), int(centers[i][1])), int(radius[i]), color, 2) # draw circle round roi"
   ]
  },
  {
   "cell_type": "code",
   "execution_count": 104,
   "metadata": {},
   "outputs": [
    {
     "data": {
      "image/png": "[encoded data removed]",
      "text/plain": [
       "<PIL.Image.Image image mode=RGB size=757x591 at 0x153DF64CFC8>"
      ]
     },
     "metadata": {},
     "output_type": "display_data"
    }
   ],
   "source": [
    "showing(img_bounding_box_roi)"
   ]
  },
  {
   "cell_type": "code",
   "execution_count": 106,
   "metadata": {},
   "outputs": [
    {
     "data": {
      "text/plain": [
       "(286, 202, 86, 65)"
      ]
     },
     "execution_count": 106,
     "metadata": {},
     "output_type": "execute_result"
    }
   ],
   "source": [
    "#boundRect[3]"
   ]
  },
  {
   "cell_type": "markdown",
   "metadata": {},
   "source": [
    "#### Visual Analysis Tool"
   ]
  },
  {
   "cell_type": "code",
   "execution_count": 129,
   "metadata": {},
   "outputs": [
    {
     "data": {
      "application/vnd.jupyter.widget-view+json": {
       "model_id": "eeef078dc1f74ca0ae3d42d3e3954ae6",
       "version_major": 2,
       "version_minor": 0
      },
      "text/plain": [
       "Canvas(toolbar=Toolbar(toolitems=[('Home', 'Reset original view', 'home', 'home'), ('Back', 'Back to previous …"
      ]
     },
     "metadata": {},
     "output_type": "display_data"
    }
   ],
   "source": [
    "%matplotlib widget\n",
    "plt.imshow(img)\n",
    "plt.show()"
   ]
  },
  {
   "cell_type": "markdown",
   "metadata": {},
   "source": [
    "#### Next Steps"
   ]
  },
  {
   "cell_type": "markdown",
   "metadata": {},
   "source": [
    "Next step would be to add screen contour using interative widgets .\n"
   ]
  },
  {
   "cell_type": "markdown",
   "metadata": {},
   "source": [
    "Add Image Augmentation and operation using UI"
   ]
  },
  {
   "cell_type": "markdown",
   "metadata": {},
   "source": [
    "Add ROI operation and augmentation"
   ]
  },
  {
   "cell_type": "code",
   "execution_count": null,
   "metadata": {},
   "outputs": [],
   "source": []
  }
 ],
 "metadata": {
  "kernelspec": {
   "display_name": "Python 3",
   "language": "python",
   "name": "python3"
  },
  "language_info": {
   "codemirror_mode": {
    "name": "ipython",
    "version": 3
   },
   "file_extension": ".py",
   "mimetype": "text/x-python",
   "name": "python",
   "nbconvert_exporter": "python",
   "pygments_lexer": "ipython3",
   "version": "3.7.7"
  }
 },
 "nbformat": 4,
 "nbformat_minor": 4
}
